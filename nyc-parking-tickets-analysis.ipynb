{
 "cells": [
  {
   "cell_type": "code",
   "execution_count": 2,
   "metadata": {},
   "outputs": [],
   "source": [
    "import os\n",
    "import sys\n",
    "os.environ[\"PYSPARK_PYTHON\"] = \"/opt/cloudera/parcels/Anaconda/bin/python\"\n",
    "os.environ[\"JAVA_HOME\"] = \"/usr/java/jdk1.8.0_232-cloudera/jre\"\n",
    "os.environ[\"SPARK_HOME\"]=\"/opt/cloudera/parcels/SPARK2-2.3.0.cloudera2-1.cdh5.13.3.p0.316101/lib/spark2/\"\n",
    "os.environ[\"PYLIB\"] = os.environ[\"SPARK_HOME\"] + \"/python/lib\"\n",
    "sys.path.insert(0, os.environ[\"PYLIB\"] +\"/py4j-0.10.6-src.zip\")\n",
    "sys.path.insert(0, os.environ[\"PYLIB\"] +\"/pyspark.zip\")"
   ]
  },
  {
   "cell_type": "code",
   "execution_count": 3,
   "metadata": {},
   "outputs": [
    {
     "data": {
      "text/html": [
       "\n",
       "            <div>\n",
       "                <p><b>SparkSession - hive</b></p>\n",
       "                \n",
       "        <div>\n",
       "            <p><b>SparkContext</b></p>\n",
       "\n",
       "            <p><a href=\"http://ip-10-0-0-227.ec2.internal:4040\">Spark UI</a></p>\n",
       "\n",
       "            <dl>\n",
       "              <dt>Version</dt>\n",
       "                <dd><code>v2.3.0.cloudera2</code></dd>\n",
       "              <dt>Master</dt>\n",
       "                <dd><code>local</code></dd>\n",
       "              <dt>AppName</dt>\n",
       "                <dd><code>pairRDD_demo</code></dd>\n",
       "            </dl>\n",
       "        </div>\n",
       "        \n",
       "            </div>\n",
       "        "
      ],
      "text/plain": [
       "<pyspark.sql.session.SparkSession at 0x7fae88272d10>"
      ]
     },
     "execution_count": 3,
     "metadata": {},
     "output_type": "execute_result"
    }
   ],
   "source": [
    "from pyspark.sql import SparkSession\n",
    "spark = SparkSession.builder.appName('NYC_Parking_Data').master(\"local\").getOrCreate()\n",
    "spark"
   ]
  },
  {
   "cell_type": "code",
   "execution_count": 4,
   "metadata": {},
   "outputs": [],
   "source": [
    "## Data is frist loaded to EC2 from s3 and then to hadoop using thing commented out commands below\n",
    "# wget https://upgrad-spark-data.s3.amazonaws.com/Parking_Violations_Issued_-_Fiscal_Year_2017.csv\n",
    "# hadoop fs -put Parking_Violations_Issued_-_Fiscal_Year_2017.csv /user/root\n",
    "\n",
    "df=spark.read.csv(\"Parking_Violations_Issued_-_Fiscal_Year_2017.csv\", inferSchema = True, header=True)"
   ]
  },
  {
   "cell_type": "code",
   "execution_count": 4,
   "metadata": {},
   "outputs": [
    {
     "name": "stdout",
     "output_type": "stream",
     "text": [
      "root\n",
      " |-- Summons Number: long (nullable = true)\n",
      " |-- Plate ID: string (nullable = true)\n",
      " |-- Registration State: string (nullable = true)\n",
      " |-- Plate Type: string (nullable = true)\n",
      " |-- Issue Date: string (nullable = true)\n",
      " |-- Violation Code: integer (nullable = true)\n",
      " |-- Vehicle Body Type: string (nullable = true)\n",
      " |-- Vehicle Make: string (nullable = true)\n",
      " |-- Issuing Agency: string (nullable = true)\n",
      " |-- Street Code1: integer (nullable = true)\n",
      " |-- Street Code2: integer (nullable = true)\n",
      " |-- Street Code3: integer (nullable = true)\n",
      " |-- Vehicle Expiration Date: integer (nullable = true)\n",
      " |-- Violation Location: integer (nullable = true)\n",
      " |-- Violation Precinct: integer (nullable = true)\n",
      " |-- Issuer Precinct: integer (nullable = true)\n",
      " |-- Issuer Code: integer (nullable = true)\n",
      " |-- Issuer Command: string (nullable = true)\n",
      " |-- Issuer Squad: string (nullable = true)\n",
      " |-- Violation Time: string (nullable = true)\n",
      " |-- Time First Observed: string (nullable = true)\n",
      " |-- Violation County: string (nullable = true)\n",
      " |-- Violation In Front Of Or Opposite: string (nullable = true)\n",
      " |-- House Number: string (nullable = true)\n",
      " |-- Street Name: string (nullable = true)\n",
      " |-- Intersecting Street: string (nullable = true)\n",
      " |-- Date First Observed: integer (nullable = true)\n",
      " |-- Law Section: integer (nullable = true)\n",
      " |-- Sub Division: string (nullable = true)\n",
      " |-- Violation Legal Code: string (nullable = true)\n",
      " |-- Days Parking In Effect    : string (nullable = true)\n",
      " |-- From Hours In Effect: string (nullable = true)\n",
      " |-- To Hours In Effect: string (nullable = true)\n",
      " |-- Vehicle Color: string (nullable = true)\n",
      " |-- Unregistered Vehicle?: integer (nullable = true)\n",
      " |-- Vehicle Year: integer (nullable = true)\n",
      " |-- Meter Number: string (nullable = true)\n",
      " |-- Feet From Curb: integer (nullable = true)\n",
      " |-- Violation Post Code: string (nullable = true)\n",
      " |-- Violation Description: string (nullable = true)\n",
      " |-- No Standing or Stopping Violation: string (nullable = true)\n",
      " |-- Hydrant Violation: string (nullable = true)\n",
      " |-- Double Parking Violation: string (nullable = true)\n",
      "\n"
     ]
    }
   ],
   "source": [
    "df.printSchema()"
   ]
  },
  {
   "cell_type": "code",
   "execution_count": 5,
   "metadata": {},
   "outputs": [],
   "source": [
    "from pyspark.sql.types import StructType, StructField, IntegerType, StringType, BooleanType, DoubleType, LongType, TimestampType"
   ]
  },
  {
   "cell_type": "code",
   "execution_count": 6,
   "metadata": {},
   "outputs": [],
   "source": [
    "fileSchema = StructType([\n",
    "    StructField('Summons Number', LongType(), True),\n",
    "    StructField('Plate ID', StringType(), True),\n",
    "    StructField('Registration State', StringType(), True),\n",
    "    StructField('Plate Type', StringType(), True),\n",
    "    StructField('Issue Date', StringType(), True),\n",
    "    StructField('Violation Code', IntegerType(), True),\n",
    "    StructField('Vehicle Body Type', StringType(), True),\n",
    "    StructField('Vehicle Make', StringType(), True),\n",
    "    StructField('Issuing Agency', StringType(), True),\n",
    "    StructField('Street Code1', IntegerType(), True),\n",
    "    StructField('Street Code2', IntegerType(), True),\n",
    "    StructField('Street Code3', IntegerType(), True),\n",
    "    StructField('Vehicle Expiration Date', StringType(), True),\n",
    "    StructField('Violation Location', IntegerType(), True),\n",
    "    StructField('Violation Precinct', IntegerType(), True),\n",
    "    StructField('Issuer Precinct', IntegerType(), True),\n",
    "    StructField('Issuer Code', IntegerType(), True),\n",
    "    StructField('Issuer Command', StringType(), True),\n",
    "    StructField('Issuer Squad', StringType(), True),\n",
    "    StructField('Violation Time', StringType(), True),\n",
    "    StructField('Time First Observed', StringType(), True),\n",
    "    StructField('Violation County', StringType(), True),\n",
    "    StructField('Violation In Front Of Or Opposite', StringType(), True),\n",
    "    StructField('House Number', StringType(), True),\n",
    "    StructField('Street Name', StringType(), True),\n",
    "    StructField('Intersecting Street', StringType(), True),\n",
    "    StructField('Date First Observed', StringType(), True),\n",
    "    StructField('Law Section', IntegerType(), True),\n",
    "    StructField('Sub Division', StringType(), True),\n",
    "    StructField('Violation Legal Code', StringType(), True),\n",
    "    StructField('Days Parking In Effect', StringType(), True),\n",
    "    StructField('From Hours In Effect', StringType(), True),\n",
    "    StructField('To Hours In Effect', StringType(), True),\n",
    "    StructField('Vehicle Color', StringType(), True),\n",
    "    StructField('Unregistered Vehicle?', IntegerType(), True),\n",
    "    StructField('Vehicle Year', StringType(), True),\n",
    "    StructField('Meter Number', StringType(), True),\n",
    "    StructField('Feet From Curb', IntegerType(), True),\n",
    "    StructField('Violation Post Code', StringType(), True),\n",
    "    StructField('Violation Description', StringType(), True),\n",
    "    StructField('No Standing or Stopping Violation', StringType(), True),\n",
    "    StructField('Hydrant Violation', StringType(), True),\n",
    "    StructField('Double Parking Violation', StringType(), True),\n",
    "])"
   ]
  },
  {
   "cell_type": "code",
   "execution_count": 7,
   "metadata": {},
   "outputs": [
    {
     "name": "stdout",
     "output_type": "stream",
     "text": [
      "root\n",
      " |-- Summons Number: long (nullable = true)\n",
      " |-- Plate ID: string (nullable = true)\n",
      " |-- Registration State: string (nullable = true)\n",
      " |-- Plate Type: string (nullable = true)\n",
      " |-- Issue Date: string (nullable = true)\n",
      " |-- Violation Code: integer (nullable = true)\n",
      " |-- Vehicle Body Type: string (nullable = true)\n",
      " |-- Vehicle Make: string (nullable = true)\n",
      " |-- Issuing Agency: string (nullable = true)\n",
      " |-- Street Code1: integer (nullable = true)\n",
      " |-- Street Code2: integer (nullable = true)\n",
      " |-- Street Code3: integer (nullable = true)\n",
      " |-- Vehicle Expiration Date: string (nullable = true)\n",
      " |-- Violation Location: integer (nullable = true)\n",
      " |-- Violation Precinct: integer (nullable = true)\n",
      " |-- Issuer Precinct: integer (nullable = true)\n",
      " |-- Issuer Code: integer (nullable = true)\n",
      " |-- Issuer Command: string (nullable = true)\n",
      " |-- Issuer Squad: string (nullable = true)\n",
      " |-- Violation Time: string (nullable = true)\n",
      " |-- Time First Observed: string (nullable = true)\n",
      " |-- Violation County: string (nullable = true)\n",
      " |-- Violation In Front Of Or Opposite: string (nullable = true)\n",
      " |-- House Number: string (nullable = true)\n",
      " |-- Street Name: string (nullable = true)\n",
      " |-- Intersecting Street: string (nullable = true)\n",
      " |-- Date First Observed: string (nullable = true)\n",
      " |-- Law Section: integer (nullable = true)\n",
      " |-- Sub Division: string (nullable = true)\n",
      " |-- Violation Legal Code: string (nullable = true)\n",
      " |-- Days Parking In Effect: string (nullable = true)\n",
      " |-- From Hours In Effect: string (nullable = true)\n",
      " |-- To Hours In Effect: string (nullable = true)\n",
      " |-- Vehicle Color: string (nullable = true)\n",
      " |-- Unregistered Vehicle?: integer (nullable = true)\n",
      " |-- Vehicle Year: string (nullable = true)\n",
      " |-- Meter Number: string (nullable = true)\n",
      " |-- Feet From Curb: integer (nullable = true)\n",
      " |-- Violation Post Code: string (nullable = true)\n",
      " |-- Violation Description: string (nullable = true)\n",
      " |-- No Standing or Stopping Violation: string (nullable = true)\n",
      " |-- Hydrant Violation: string (nullable = true)\n",
      " |-- Double Parking Violation: string (nullable = true)\n",
      "\n"
     ]
    }
   ],
   "source": [
    "df = spark.read.csv(\"Parking_Violations_Issued_-_Fiscal_Year_2017.csv\", schema = fileSchema, header=True)\n",
    "df.printSchema()"
   ]
  },
  {
   "cell_type": "code",
   "execution_count": 8,
   "metadata": {},
   "outputs": [],
   "source": [
    "from pyspark.sql.functions import *"
   ]
  },
  {
   "cell_type": "code",
   "execution_count": 9,
   "metadata": {},
   "outputs": [
    {
     "name": "stdout",
     "output_type": "stream",
     "text": [
      "root\n",
      " |-- Registration State: string (nullable = true)\n",
      " |-- Vehicle Body Type: string (nullable = true)\n",
      " |-- Vehicle Make: string (nullable = true)\n",
      " |-- Violation Code: integer (nullable = true)\n",
      " |-- Issue Date: timestamp (nullable = true)\n",
      "\n"
     ]
    }
   ],
   "source": [
    "# Selecting only columns that are required for analysis 'Registration State','Vehicle Body Type','Vehicle Make', 'Violation Code', 'Issue Date' and converting Issue Date to timestamp\n",
    "\n",
    "pattern1 = 'MM/dd/yyyy'\n",
    "df1 = df.select('Registration State','Vehicle Body Type','Vehicle Make', 'Violation Code', 'Issue Date').withColumn('Issue Date', unix_timestamp(df['Issue Date'], pattern1).cast('timestamp'))\n",
    "df1.printSchema()"
   ]
  },
  {
   "cell_type": "markdown",
   "metadata": {},
   "source": [
    "### **** Find the total number of tickets for the year 2017****\n"
   ]
  },
  {
   "cell_type": "code",
   "execution_count": 10,
   "metadata": {},
   "outputs": [
    {
     "name": "stdout",
     "output_type": "stream",
     "text": [
      "+----+-------+\n",
      "|year|  count|\n",
      "+----+-------+\n",
      "|2017|5431918|\n",
      "+----+-------+\n",
      "\n"
     ]
    }
   ],
   "source": [
    "# Question: Find the total number of tickets for the year\n",
    "# Solution: The total number of tickets for the year 2017 is 5431918 and is shown in a tabular format below\n",
    "\n",
    "df2 = df1.groupBy(year('Issue Date').alias('year')).count().orderBy('count', ascending = False)\n",
    "df2.where(df2['year'] == 2017).show()"
   ]
  },
  {
   "cell_type": "markdown",
   "metadata": {},
   "source": [
    "### **** Find out the number of unique states from where the cars that got parking tickets came. ****\n"
   ]
  },
  {
   "cell_type": "code",
   "execution_count": 11,
   "metadata": {},
   "outputs": [
    {
     "name": "stdout",
     "output_type": "stream",
     "text": [
      "+------------------+\n",
      "|Registration State|\n",
      "+------------------+\n",
      "|AZ                |\n",
      "|SC                |\n",
      "|NS                |\n",
      "|LA                |\n",
      "|MN                |\n",
      "|NJ                |\n",
      "|MX                |\n",
      "|DC                |\n",
      "|OR                |\n",
      "|99                |\n",
      "|NT                |\n",
      "|VA                |\n",
      "|RI                |\n",
      "|WY                |\n",
      "|KY                |\n",
      "|BC                |\n",
      "|NH                |\n",
      "|MI                |\n",
      "|GV                |\n",
      "|NV                |\n",
      "|QB                |\n",
      "|WI                |\n",
      "|ID                |\n",
      "|CA                |\n",
      "|CT                |\n",
      "|NE                |\n",
      "|MT                |\n",
      "|NC                |\n",
      "|VT                |\n",
      "|MD                |\n",
      "|DE                |\n",
      "|MO                |\n",
      "|IL                |\n",
      "|ME                |\n",
      "|MB                |\n",
      "|WA                |\n",
      "|ND                |\n",
      "|MS                |\n",
      "|AL                |\n",
      "|IN                |\n",
      "|OH                |\n",
      "|TN                |\n",
      "|IA                |\n",
      "|NM                |\n",
      "|PA                |\n",
      "|SD                |\n",
      "|FO                |\n",
      "|NY                |\n",
      "|ON                |\n",
      "|SK                |\n",
      "|AB                |\n",
      "|PE                |\n",
      "|TX                |\n",
      "|WV                |\n",
      "|GA                |\n",
      "|MA                |\n",
      "|KS                |\n",
      "|FL                |\n",
      "|CO                |\n",
      "|AK                |\n",
      "|AR                |\n",
      "|NB                |\n",
      "|OK                |\n",
      "|PR                |\n",
      "|UT                |\n",
      "|HI                |\n",
      "|DP                |\n",
      "+------------------+\n",
      "\n"
     ]
    }
   ],
   "source": [
    "# Question: Find out the number of unique states from where the cars that got parking tickets came. \n",
    "# Solution: There are 67 distinct states including '99' and is shown in a tabular format below\n",
    "\n",
    "df2 = df1.select('Registration State').distinct()\n",
    "df2.show(df2.count(),False)\n"
   ]
  },
  {
   "cell_type": "markdown",
   "metadata": {},
   "source": [
    "### **** Find out the number of unique states from where the cars that got parking tickets came after replacing bad               data '99' with the state having highest entries ****\n"
   ]
  },
  {
   "cell_type": "code",
   "execution_count": 12,
   "metadata": {},
   "outputs": [
    {
     "name": "stdout",
     "output_type": "stream",
     "text": [
      "+------------------+\n",
      "|Registration State|\n",
      "+------------------+\n",
      "|AZ                |\n",
      "|SC                |\n",
      "|NS                |\n",
      "|LA                |\n",
      "|MN                |\n",
      "|NJ                |\n",
      "|MX                |\n",
      "|DC                |\n",
      "|OR                |\n",
      "|NT                |\n",
      "|VA                |\n",
      "|RI                |\n",
      "|WY                |\n",
      "|KY                |\n",
      "|BC                |\n",
      "|NH                |\n",
      "|MI                |\n",
      "|GV                |\n",
      "|NV                |\n",
      "|QB                |\n",
      "|WI                |\n",
      "|ID                |\n",
      "|CA                |\n",
      "|CT                |\n",
      "|NE                |\n",
      "|MT                |\n",
      "|NC                |\n",
      "|VT                |\n",
      "|MD                |\n",
      "|DE                |\n",
      "|MO                |\n",
      "|IL                |\n",
      "|ME                |\n",
      "|MB                |\n",
      "|WA                |\n",
      "|ND                |\n",
      "|MS                |\n",
      "|AL                |\n",
      "|IN                |\n",
      "|OH                |\n",
      "|TN                |\n",
      "|IA                |\n",
      "|NM                |\n",
      "|PA                |\n",
      "|SD                |\n",
      "|FO                |\n",
      "|NY                |\n",
      "|ON                |\n",
      "|SK                |\n",
      "|AB                |\n",
      "|PE                |\n",
      "|TX                |\n",
      "|WV                |\n",
      "|GA                |\n",
      "|MA                |\n",
      "|KS                |\n",
      "|FL                |\n",
      "|CO                |\n",
      "|AK                |\n",
      "|AR                |\n",
      "|NB                |\n",
      "|OK                |\n",
      "|PR                |\n",
      "|UT                |\n",
      "|HI                |\n",
      "|DP                |\n",
      "+------------------+\n",
      "\n"
     ]
    }
   ],
   "source": [
    "# Question: Find out the number of unique states from where the cars that got parking tickets came after replacing bad data '99' with the state having highest entries\n",
    "# Solution: There are 66 distinct states that got parking tickets after replacing bad data '99' with 'NY' and is shown in a tabular format below\n",
    "\n",
    "# First finding the dataframe having only state with highest entries for replacing and converted to pandas\n",
    "dp = df.groupBy('Registration State').count().orderBy('count', ascending = False).limit(1).toPandas()\n",
    "\n",
    "# Selecting only columns that are required for analysis 'Registration State','Vehicle Body Type','Vehicle Make', 'Violation Code', 'Issue Date' and converting Issue Date to timestamp\n",
    "# replaced the bad input '99' with the state calculated above\n",
    "df1 = df.select('Registration State','Vehicle Body Type','Vehicle Make', 'Violation Code', 'Issue Date').withColumn('Registration State', regexp_replace('Registration State', '99', dp['Registration State'].values[0])).withColumn('Issue Date', unix_timestamp(df['Issue Date'], pattern1).cast('timestamp'))\n",
    "df2 = df1.select('Registration State').distinct()\n",
    "df2.show(df2.count(),False)\n"
   ]
  },
  {
   "cell_type": "markdown",
   "metadata": {},
   "source": [
    "### **** Display the top 20 states with the most number of tickets along with their ticket count. ****\n"
   ]
  },
  {
   "cell_type": "code",
   "execution_count": 13,
   "metadata": {},
   "outputs": [
    {
     "name": "stdout",
     "output_type": "stream",
     "text": [
      "+------------------+-------+\n",
      "|Registration State|count  |\n",
      "+------------------+-------+\n",
      "|NY                |8517686|\n",
      "|NJ                |925965 |\n",
      "|PA                |285419 |\n",
      "|FL                |144556 |\n",
      "|CT                |141088 |\n",
      "|MA                |85547  |\n",
      "|IN                |80749  |\n",
      "|VA                |72626  |\n",
      "|MD                |61800  |\n",
      "|NC                |55806  |\n",
      "|IL                |37329  |\n",
      "|GA                |36852  |\n",
      "|TX                |36516  |\n",
      "|AZ                |26426  |\n",
      "|OH                |25302  |\n",
      "|CA                |24260  |\n",
      "|SC                |21836  |\n",
      "|ME                |21574  |\n",
      "|MN                |18227  |\n",
      "|OK                |18165  |\n",
      "+------------------+-------+\n",
      "only showing top 20 rows\n",
      "\n"
     ]
    }
   ],
   "source": [
    "# Question: Display the top 20 states with the most number of tickets along with their ticket count.\n",
    "# Solution: The top 20 states which got parking tickets are shown below\n",
    "\n",
    "df1.groupBy('Registration State').count().orderBy('count', ascending = False).show(20,False)"
   ]
  },
  {
   "cell_type": "markdown",
   "metadata": {},
   "source": [
    "### **** How often does each violation code occur? Display the frequency of the top five violation codes. ****"
   ]
  },
  {
   "cell_type": "code",
   "execution_count": 14,
   "metadata": {},
   "outputs": [
    {
     "name": "stdout",
     "output_type": "stream",
     "text": [
      "+--------------+-------+\n",
      "|Violation Code|count  |\n",
      "+--------------+-------+\n",
      "|21            |1528588|\n",
      "|36            |1400614|\n",
      "|38            |1062304|\n",
      "|14            |893498 |\n",
      "|20            |618593 |\n",
      "+--------------+-------+\n",
      "only showing top 5 rows\n",
      "\n"
     ]
    }
   ],
   "source": [
    "# Question: How often does each violation code occur? Display the frequency of the top five violation codes.\n",
    "# Solution: The top five violation codes are 21, 36, 38, 14, 20 and thier respectives counts are shown below\n",
    "\n",
    "df1.groupBy('Violation Code').count().orderBy('count', ascending = False).show(5,False)"
   ]
  },
  {
   "cell_type": "markdown",
   "metadata": {},
   "source": [
    "### **** How often does each 'vehicle body type' get a parking ticket? ****"
   ]
  },
  {
   "cell_type": "code",
   "execution_count": 15,
   "metadata": {},
   "outputs": [
    {
     "name": "stdout",
     "output_type": "stream",
     "text": [
      "+-----------------+-------+\n",
      "|Vehicle Body Type|count  |\n",
      "+-----------------+-------+\n",
      "|SUBN             |3719802|\n",
      "|4DSD             |3082020|\n",
      "|VAN              |1411970|\n",
      "|DELV             |687330 |\n",
      "|SDN              |438191 |\n",
      "+-----------------+-------+\n",
      "only showing top 5 rows\n",
      "\n"
     ]
    }
   ],
   "source": [
    "# Question: How often does each 'vehicle body type' get a parking ticket? \n",
    "# Solution: The top five vehicle body types that got parking tickets are SUBN, 4DSD, VAN, DELV, SDN and thier respectives counts are shown below\n",
    "\n",
    "df1.groupBy('Vehicle Body Type').count().orderBy('count', ascending = False).show(5,False)\n"
   ]
  },
  {
   "cell_type": "markdown",
   "metadata": {},
   "source": [
    "### **** How about the 'vehicle make'? Find the top 5 for both. ****"
   ]
  },
  {
   "cell_type": "code",
   "execution_count": 16,
   "metadata": {},
   "outputs": [
    {
     "name": "stdout",
     "output_type": "stream",
     "text": [
      "+------------+-------+\n",
      "|Vehicle Make|count  |\n",
      "+------------+-------+\n",
      "|FORD        |1280958|\n",
      "|TOYOT       |1211451|\n",
      "|HONDA       |1079238|\n",
      "|NISSA       |918590 |\n",
      "|CHEVR       |714655 |\n",
      "+------------+-------+\n",
      "only showing top 5 rows\n",
      "\n"
     ]
    }
   ],
   "source": [
    "# Question: How about the 'vehicle make'? Find the top 5 for both.\n",
    "# Solution: The top 5 vehicle makes that got parking tikcet are FORD, TOYOT, HONDA, NISSA, CHEVR and thier respective counts are shown below\n",
    "\n",
    "df1.groupBy('Vehicle Make').count().orderBy('count', ascending = False).show(5,False)\n"
   ]
  },
  {
   "cell_type": "markdown",
   "metadata": {},
   "source": [
    "### **** Finding the frequencies of tickets for each season ****"
   ]
  },
  {
   "cell_type": "code",
   "execution_count": 17,
   "metadata": {},
   "outputs": [
    {
     "name": "stdout",
     "output_type": "stream",
     "text": [
      "+------+-------+\n",
      "|Season|  count|\n",
      "+------+-------+\n",
      "|spring|3018840|\n",
      "|winter|2671332|\n",
      "|autumn|2648920|\n",
      "|summer|2463936|\n",
      "+------+-------+\n",
      "\n"
     ]
    }
   ],
   "source": [
    "# Question: Finding the frequencies of tickets for each season\n",
    "# Solution: Below is the udf to convert a month to a season winter(1,2,3),spring(4,5,6),summer(7,8,9),autumn(10,11,12) and thier respective counts are shown below\n",
    "\n",
    "# UDF using annotation\n",
    "@udf(\"string\")\n",
    "def monthToSeason(month):\n",
    "    if month in (1, 2, 3):\n",
    "        season = 'winter'\n",
    "    elif month in (4, 5, 6):\n",
    "        season = 'spring'\n",
    "    elif month in (7, 8, 9):\n",
    "        season = 'summer'\n",
    "    else:\n",
    "        season = 'autumn'\n",
    "    return season\n",
    "\n",
    "\n",
    "df1.groupBy(monthToSeason(month('Issue Date')).alias('Season')).count().orderBy('count', ascending = False).show()"
   ]
  },
  {
   "cell_type": "markdown",
   "metadata": {},
   "source": [
    "### **** Finding the three most common violations for each of these seasons ****"
   ]
  },
  {
   "cell_type": "code",
   "execution_count": 18,
   "metadata": {},
   "outputs": [
    {
     "name": "stdout",
     "output_type": "stream",
     "text": [
      "+------+--------------+------+\n",
      "|Season|Violation Code| count|\n",
      "+------+--------------+------+\n",
      "|winter|            21|374202|\n",
      "|winter|            36|348240|\n",
      "|winter|            38|287017|\n",
      "+------+--------------+------+\n",
      "only showing top 3 rows\n",
      "\n",
      "+------+--------------+------+\n",
      "|Season|Violation Code| count|\n",
      "+------+--------------+------+\n",
      "|spring|            21|421184|\n",
      "|spring|            36|369902|\n",
      "|spring|            38|266909|\n",
      "+------+--------------+------+\n",
      "only showing top 3 rows\n",
      "\n",
      "+------+--------------+------+\n",
      "|Season|Violation Code| count|\n",
      "+------+--------------+------+\n",
      "|summer|            21|385774|\n",
      "|summer|            38|244985|\n",
      "|summer|            36|239879|\n",
      "+------+--------------+------+\n",
      "only showing top 3 rows\n",
      "\n",
      "+------+--------------+------+\n",
      "|Season|Violation Code| count|\n",
      "+------+--------------+------+\n",
      "|autumn|            36|442593|\n",
      "|autumn|            21|347428|\n",
      "|autumn|            38|263393|\n",
      "+------+--------------+------+\n",
      "only showing top 3 rows\n",
      "\n"
     ]
    }
   ],
   "source": [
    "# Question: Finding the three most common violations for each of these seasons\n",
    "# Solution: Below listed are the top 3 most common violations per seasons which are (21,36,38)\n",
    "\n",
    "df2 = df1.groupBy(monthToSeason(month('Issue Date')).alias('Season'), 'Violation Code').count().orderBy('count', ascending = False)\n",
    "df2.where(df2['Season'] == 'winter').show(3)\n",
    "df2.where(df2['Season'] == 'spring').show(3)\n",
    "df2.where(df2['Season'] == 'summer').show(3)\n",
    "df2.where(df2['Season'] == 'autumn').show(3)"
   ]
  },
  {
   "cell_type": "markdown",
   "metadata": {},
   "source": [
    "### **** Find the total occurrences of the three most common violation codes. ****"
   ]
  },
  {
   "cell_type": "code",
   "execution_count": 19,
   "metadata": {},
   "outputs": [
    {
     "name": "stdout",
     "output_type": "stream",
     "text": [
      "+--------------+-------+\n",
      "|Violation Code|  count|\n",
      "+--------------+-------+\n",
      "|            21|1528588|\n",
      "|            36|1400614|\n",
      "|            38|1062304|\n",
      "+--------------+-------+\n",
      "\n"
     ]
    }
   ],
   "source": [
    "# Question: Find the total occurrences of the three most common violation codes.\n",
    "# Solution: Below are the top most common violation codes (21,36,38) and thier respective counts\n",
    "\n",
    "df2 = df1.groupBy('Violation Code').count().orderBy('count', ascending = False).limit(3)\n",
    "df2.show()"
   ]
  },
  {
   "cell_type": "markdown",
   "metadata": {},
   "source": [
    "### **** Find the total amount collected for each of the three violation codes with the maximum tickets. ****"
   ]
  },
  {
   "cell_type": "code",
   "execution_count": 20,
   "metadata": {},
   "outputs": [
    {
     "name": "stdout",
     "output_type": "stream",
     "text": [
      "+--------------+------------------------+\n",
      "|Violation Code|Total $ amount collected|\n",
      "+--------------+------------------------+\n",
      "|            21|                99358220|\n",
      "|            36|                70030700|\n",
      "|            38|                53115200|\n",
      "+--------------+------------------------+\n",
      "\n"
     ]
    }
   ],
   "source": [
    "# Question: Find the total amount collected for each of the three violation codes with the maximum tickets.\n",
    "# Solution: Below is the total amount collected for the top three violation codes (21, 36, 38) and thier average respective fines are 65$, 50$, 50$\n",
    "\n",
    "@udf(\"int\")\n",
    "def getFine(code):\n",
    "    if code == 21:\n",
    "        fine = 65\n",
    "    elif code == 36:\n",
    "        fine = 50\n",
    "    elif code == 38:\n",
    "        fine = 50\n",
    "    else:\n",
    "        fine = 0\n",
    "    return fine\n",
    "\n",
    "df3 = df2.withColumn('Total $ amount collected', getFine(df2['Violation Code']) * df2['count']).select('Violation Code','Total $ amount collected')\n",
    "df3.show()\n"
   ]
  },
  {
   "cell_type": "markdown",
   "metadata": {},
   "source": [
    "### **** State the code that has the highest total collection (only based on the top 3 tickets) ****"
   ]
  },
  {
   "cell_type": "code",
   "execution_count": 21,
   "metadata": {},
   "outputs": [
    {
     "data": {
      "text/plain": [
       "21"
      ]
     },
     "execution_count": 21,
     "metadata": {},
     "output_type": "execute_result"
    }
   ],
   "source": [
    "# Question: State the code that has the highest total collection (only based on the top 3 tickets)\n",
    "# Solution: Violation Code 21 has the highest total collection and is shown below and toal amount collected is already listed above \n",
    "dp1 = df3.toPandas()\n",
    "dp1['Violation Code'].values[0]"
   ]
  },
  {
   "cell_type": "markdown",
   "metadata": {},
   "source": [
    "### **** Find the top 3 states that have the highest ticket revenue based on the top 3 violation codes alone. ****"
   ]
  },
  {
   "cell_type": "code",
   "execution_count": 22,
   "metadata": {},
   "outputs": [
    {
     "name": "stdout",
     "output_type": "stream",
     "text": [
      "+------------------+-------------+\n",
      "|Registration State|Total Revenue|\n",
      "+------------------+-------------+\n",
      "|                NY|    177078880|\n",
      "|                NJ|     14753770|\n",
      "|                PA|      6944560|\n",
      "+------------------+-------------+\n",
      "only showing top 3 rows\n",
      "\n"
     ]
    }
   ],
   "source": [
    "# Question: Find the top 3 states that have the highest ticket revenue based on the top 3 violation codes alone.\n",
    "# Solution: Below are the top 3 states that had the most revenue from top three violation codes (21, 36, 38)\n",
    "\n",
    "df2 = df1.groupBy('Registration State', 'Violation Code').count().where((df1['Violation Code'] == 21) | (df1['Violation Code'] == 36) | (df1['Violation Code'] == 38));\n",
    "df3 = df2.withColumn('Total Revenue per violation', df2['count'] * getFine(df2['Violation Code']))\n",
    "df4 = df3.groupBy('Registration State').agg(sum('Total Revenue per violation').alias('Total Revenue')).orderBy('Total Revenue', ascending = False)\n",
    "df4.show(3)"
   ]
  },
  {
   "cell_type": "markdown",
   "metadata": {},
   "source": [
    "## What can you intuitively infer from these findings?\n",
    "\n",
    "### Top 3 Analysis\n",
    "\n",
    "* The neighbouring states of NY like NJ, PA had the highest ticket count as well as the highest revenue generated. It means that the tickets and revenue generated is directly related to the nearness of the state 'NY\n",
    "* No parking where parking is not allowed by sign (Violation Code: 21) is the most common violation\n",
    "* Most of the parking tickets are happening in Season spring\n",
    "\n",
    "### Other Analysis\n",
    "* The vehicle body types SUBN, 4DSD, VAN, DELV, SDN had the most parking tickets\n",
    "* The Vehicle makes FORD, TOYOT, HONDA, NISSA, CHEVR had the the most parking tickets\n"
   ]
  }
 ],
 "metadata": {
  "kernelspec": {
   "display_name": "Python 2",
   "language": "python",
   "name": "python2"
  },
  "language_info": {
   "codemirror_mode": {
    "name": "ipython",
    "version": 2
   },
   "file_extension": ".py",
   "mimetype": "text/x-python",
   "name": "python",
   "nbconvert_exporter": "python",
   "pygments_lexer": "ipython2",
   "version": "2.7.16"
  }
 },
 "nbformat": 4,
 "nbformat_minor": 2
}
